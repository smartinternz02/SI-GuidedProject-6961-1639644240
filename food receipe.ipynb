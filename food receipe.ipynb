{
 "cells": [
  {
   "cell_type": "code",
   "execution_count": 2,
   "id": "0e3f3014",
   "metadata": {},
   "outputs": [],
   "source": [
    "import tensorflow as tf\n",
    "from tensorflow import keras\n",
    "from tensorflow.keras.preprocessing.image import ImageDataGenerator\n",
    "import numpy as np\n"
   ]
  },
  {
   "cell_type": "code",
   "execution_count": 5,
   "id": "7c1d64ee",
   "metadata": {},
   "outputs": [],
   "source": [
    "train_datagen=ImageDataGenerator(rescale=1./255,shear_range=0.2,zoom_range=.2,horizontal_flip=True)"
   ]
  },
  {
   "cell_type": "code",
   "execution_count": 7,
   "id": "5cffeb6e",
   "metadata": {},
   "outputs": [
    {
     "name": "stdout",
     "output_type": "stream",
     "text": [
      "Found 2418 images belonging to 3 classes.\n"
     ]
    }
   ],
   "source": [
    "x_train=train_datagen.flow_from_directory(directory=r'C:\\Users\\bhara\\Downloads\\FOOD RECIPE dataset\\FOOD RECIPE\\dataset\\training_set',target_size=(64,64),batch_size=32,class_mode='categorical')"
   ]
  },
  {
   "cell_type": "code",
   "execution_count": 8,
   "id": "b4931a45",
   "metadata": {},
   "outputs": [],
   "source": [
    "test_datagen=ImageDataGenerator(rescale=1./255)"
   ]
  },
  {
   "cell_type": "code",
   "execution_count": 9,
   "id": "f2cfeb05",
   "metadata": {},
   "outputs": [
    {
     "name": "stdout",
     "output_type": "stream",
     "text": [
      "Found 600 images belonging to 3 classes.\n"
     ]
    }
   ],
   "source": [
    "x_test=test_datagen.flow_from_directory(directory=r'C:\\Users\\bhara\\Downloads\\FOOD RECIPE dataset\\FOOD RECIPE\\dataset\\test_set',target_size=(64,64),batch_size=32,class_mode='categorical')"
   ]
  },
  {
   "cell_type": "code",
   "execution_count": 32,
   "id": "481e44a4",
   "metadata": {},
   "outputs": [],
   "source": [
    "from tensorflow.keras.models import Sequential\n",
    "from tensorflow.keras.layers import Dense\n",
    "from tensorflow.keras.layers import Conv2D\n",
    "from tensorflow.keras.layers import MaxPooling2D\n",
    "from tensorflow.keras.layers import Flatten\n",
    "from tensorflow.keras.layers import Dropout"
   ]
  },
  {
   "cell_type": "code",
   "execution_count": 33,
   "id": "b341eb0c",
   "metadata": {},
   "outputs": [],
   "source": [
    "model=Sequential()  #create model"
   ]
  },
  {
   "cell_type": "code",
   "execution_count": 36,
   "id": "24d311f1",
   "metadata": {},
   "outputs": [],
   "source": [
    "#adding of model layers\n",
    "model.add(Conv2D(32,(3,3),input_shape=(64,64,3),activation='relu'))#convolutional layer\n",
    "model.add(MaxPooling2D(pool_size=(2,2)))#MaxPooling2D-for downsampling the input"
   ]
  },
  {
   "cell_type": "code",
   "execution_count": 37,
   "id": "3a6518be",
   "metadata": {},
   "outputs": [],
   "source": [
    "model.add(Conv2D(32,(3,3),activation='relu'))\n",
    "model.add(MaxPool2D(pool_size=(2,2)))\n",
    "model.add(Dropout(0.2))#dropping input randomly for preventing from overfitting"
   ]
  },
  {
   "cell_type": "code",
   "execution_count": 38,
   "id": "607cc4f5",
   "metadata": {},
   "outputs": [],
   "source": [
    "model.add(Flatten())#flatten the dimension of image\n",
    "model.add(Dense(32))#deeply connect neural network layers"
   ]
  },
  {
   "cell_type": "code",
   "execution_count": 39,
   "id": "ec558e56",
   "metadata": {},
   "outputs": [],
   "source": [
    "model.add(Dense(3,activation='softmax'))#output layer with 3 neurons"
   ]
  },
  {
   "cell_type": "code",
   "execution_count": 40,
   "id": "f9273f06",
   "metadata": {},
   "outputs": [
    {
     "name": "stdout",
     "output_type": "stream",
     "text": [
      "Model: \"sequential_3\"\n",
      "_________________________________________________________________\n",
      "Layer (type)                 Output Shape              Param #   \n",
      "=================================================================\n",
      "conv2d_13 (Conv2D)           (None, 62, 62, 32)        896       \n",
      "_________________________________________________________________\n",
      "max_pooling2d_2 (MaxPooling2 (None, 31, 31, 32)        0         \n",
      "_________________________________________________________________\n",
      "conv2d_14 (Conv2D)           (None, 29, 29, 32)        9248      \n",
      "_________________________________________________________________\n",
      "max_pooling2d_3 (MaxPooling2 (None, 14, 14, 32)        0         \n",
      "_________________________________________________________________\n",
      "conv2d_15 (Conv2D)           (None, 12, 12, 32)        9248      \n",
      "_________________________________________________________________\n",
      "max_pooling2d_4 (MaxPooling2 (None, 6, 6, 32)          0         \n",
      "_________________________________________________________________\n",
      "dropout_1 (Dropout)          (None, 6, 6, 32)          0         \n",
      "_________________________________________________________________\n",
      "flatten_1 (Flatten)          (None, 1152)              0         \n",
      "_________________________________________________________________\n",
      "dense_1 (Dense)              (None, 32)                36896     \n",
      "_________________________________________________________________\n",
      "dense_2 (Dense)              (None, 3)                 99        \n",
      "=================================================================\n",
      "Total params: 56,387\n",
      "Trainable params: 56,387\n",
      "Non-trainable params: 0\n",
      "_________________________________________________________________\n"
     ]
    }
   ],
   "source": [
    "model.summary()"
   ]
  },
  {
   "cell_type": "code",
   "execution_count": 46,
   "id": "9cbb8a1c",
   "metadata": {},
   "outputs": [],
   "source": [
    "#compile model\n",
    "model.compile(optimizer='adam',loss='categorical_crossentropy',metrics=['accuracy'])"
   ]
  },
  {
   "cell_type": "code",
   "execution_count": 47,
   "id": "8b0f894d",
   "metadata": {},
   "outputs": [
    {
     "name": "stdout",
     "output_type": "stream",
     "text": [
      "Epoch 1/80\n",
      "76/76 [==============================] - 39s 498ms/step - loss: 1.0665 - accuracy: 0.4251 - val_loss: 0.9771 - val_accuracy: 0.5183\n",
      "Epoch 2/80\n",
      "76/76 [==============================] - 35s 467ms/step - loss: 0.9590 - accuracy: 0.5310 - val_loss: 0.8463 - val_accuracy: 0.5917\n",
      "Epoch 3/80\n",
      "76/76 [==============================] - 35s 466ms/step - loss: 0.8654 - accuracy: 0.5935 - val_loss: 0.7346 - val_accuracy: 0.6883\n",
      "Epoch 4/80\n",
      "76/76 [==============================] - 35s 464ms/step - loss: 0.8020 - accuracy: 0.6270 - val_loss: 0.6859 - val_accuracy: 0.6883\n",
      "Epoch 5/80\n",
      "76/76 [==============================] - 35s 464ms/step - loss: 0.7585 - accuracy: 0.6526 - val_loss: 0.9221 - val_accuracy: 0.5617\n",
      "Epoch 6/80\n",
      "76/76 [==============================] - 35s 465ms/step - loss: 0.7620 - accuracy: 0.6687 - val_loss: 0.6480 - val_accuracy: 0.7367\n",
      "Epoch 7/80\n",
      "76/76 [==============================] - 36s 468ms/step - loss: 0.6750 - accuracy: 0.7026 - val_loss: 0.5878 - val_accuracy: 0.7700\n",
      "Epoch 8/80\n",
      "76/76 [==============================] - 35s 461ms/step - loss: 0.6458 - accuracy: 0.7155 - val_loss: 0.8655 - val_accuracy: 0.6383\n",
      "Epoch 9/80\n",
      "76/76 [==============================] - 35s 459ms/step - loss: 0.6306 - accuracy: 0.7370 - val_loss: 0.5026 - val_accuracy: 0.7867\n",
      "Epoch 10/80\n",
      "76/76 [==============================] - 35s 461ms/step - loss: 0.6245 - accuracy: 0.7457 - val_loss: 0.5045 - val_accuracy: 0.7950\n",
      "Epoch 11/80\n",
      "76/76 [==============================] - 35s 459ms/step - loss: 0.6174 - accuracy: 0.7469 - val_loss: 0.5123 - val_accuracy: 0.8100\n",
      "Epoch 12/80\n",
      "76/76 [==============================] - 35s 459ms/step - loss: 0.5719 - accuracy: 0.7709 - val_loss: 0.4530 - val_accuracy: 0.8200\n",
      "Epoch 13/80\n",
      "76/76 [==============================] - 32s 418ms/step - loss: 0.5627 - accuracy: 0.7676 - val_loss: 0.4734 - val_accuracy: 0.8217\n",
      "Epoch 14/80\n",
      "76/76 [==============================] - 34s 452ms/step - loss: 0.5566 - accuracy: 0.7672 - val_loss: 0.4386 - val_accuracy: 0.8317\n",
      "Epoch 15/80\n",
      "76/76 [==============================] - 37s 484ms/step - loss: 0.4913 - accuracy: 0.8093 - val_loss: 0.4472 - val_accuracy: 0.8233\n",
      "Epoch 16/80\n",
      "76/76 [==============================] - 37s 483ms/step - loss: 0.4854 - accuracy: 0.8044 - val_loss: 0.5819 - val_accuracy: 0.7417\n",
      "Epoch 17/80\n",
      "76/76 [==============================] - 36s 480ms/step - loss: 0.5181 - accuracy: 0.7895 - val_loss: 0.4475 - val_accuracy: 0.8150\n",
      "Epoch 18/80\n",
      "76/76 [==============================] - 37s 487ms/step - loss: 0.4533 - accuracy: 0.8246 - val_loss: 0.4458 - val_accuracy: 0.8300\n",
      "Epoch 19/80\n",
      "76/76 [==============================] - 37s 482ms/step - loss: 0.4702 - accuracy: 0.8085 - val_loss: 0.5197 - val_accuracy: 0.7683\n",
      "Epoch 20/80\n",
      "76/76 [==============================] - 37s 482ms/step - loss: 0.4437 - accuracy: 0.8263 - val_loss: 0.4579 - val_accuracy: 0.8267\n",
      "Epoch 21/80\n",
      "76/76 [==============================] - 37s 482ms/step - loss: 0.4275 - accuracy: 0.8288 - val_loss: 0.4293 - val_accuracy: 0.8217\n",
      "Epoch 22/80\n",
      "76/76 [==============================] - 37s 484ms/step - loss: 0.4308 - accuracy: 0.8304 - val_loss: 0.5171 - val_accuracy: 0.8050\n",
      "Epoch 23/80\n",
      "76/76 [==============================] - 37s 482ms/step - loss: 0.4165 - accuracy: 0.8400 - val_loss: 0.4326 - val_accuracy: 0.8267\n",
      "Epoch 24/80\n",
      "76/76 [==============================] - 36s 474ms/step - loss: 0.3956 - accuracy: 0.8486 - val_loss: 0.6175 - val_accuracy: 0.7550\n",
      "Epoch 25/80\n",
      "76/76 [==============================] - 35s 463ms/step - loss: 0.3977 - accuracy: 0.8420 - val_loss: 0.4588 - val_accuracy: 0.8283\n",
      "Epoch 26/80\n",
      "76/76 [==============================] - 35s 464ms/step - loss: 0.3979 - accuracy: 0.8412 - val_loss: 0.4153 - val_accuracy: 0.8617\n",
      "Epoch 27/80\n",
      "76/76 [==============================] - 35s 463ms/step - loss: 0.3831 - accuracy: 0.8470 - val_loss: 0.3872 - val_accuracy: 0.8483\n",
      "Epoch 28/80\n",
      "76/76 [==============================] - 35s 461ms/step - loss: 0.3733 - accuracy: 0.8548 - val_loss: 0.5599 - val_accuracy: 0.8000\n",
      "Epoch 29/80\n",
      "76/76 [==============================] - 35s 460ms/step - loss: 0.3562 - accuracy: 0.8606 - val_loss: 0.4684 - val_accuracy: 0.8217\n",
      "Epoch 30/80\n",
      "76/76 [==============================] - 36s 468ms/step - loss: 0.3776 - accuracy: 0.8495 - val_loss: 0.3526 - val_accuracy: 0.8600\n",
      "Epoch 31/80\n",
      "76/76 [==============================] - 35s 460ms/step - loss: 0.3722 - accuracy: 0.8503 - val_loss: 0.4401 - val_accuracy: 0.8300\n",
      "Epoch 32/80\n",
      "76/76 [==============================] - 35s 463ms/step - loss: 0.3426 - accuracy: 0.8664 - val_loss: 0.4146 - val_accuracy: 0.8433\n",
      "Epoch 33/80\n",
      "76/76 [==============================] - 1465s 20s/step - loss: 0.3293 - accuracy: 0.8689 - val_loss: 0.3653 - val_accuracy: 0.8683\n",
      "Epoch 34/80\n",
      "76/76 [==============================] - 35s 466ms/step - loss: 0.3479 - accuracy: 0.8639 - val_loss: 0.4587 - val_accuracy: 0.8333\n",
      "Epoch 35/80\n",
      "76/76 [==============================] - 35s 464ms/step - loss: 0.3263 - accuracy: 0.8747 - val_loss: 0.4076 - val_accuracy: 0.8583\n",
      "Epoch 36/80\n",
      "76/76 [==============================] - 35s 465ms/step - loss: 0.3275 - accuracy: 0.8668 - val_loss: 0.3796 - val_accuracy: 0.8667\n",
      "Epoch 37/80\n",
      "76/76 [==============================] - 35s 464ms/step - loss: 0.3517 - accuracy: 0.8635 - val_loss: 0.3967 - val_accuracy: 0.8600\n",
      "Epoch 38/80\n",
      "76/76 [==============================] - 35s 463ms/step - loss: 0.3159 - accuracy: 0.8672 - val_loss: 0.4008 - val_accuracy: 0.8433\n",
      "Epoch 39/80\n",
      "76/76 [==============================] - 35s 463ms/step - loss: 0.3173 - accuracy: 0.8825 - val_loss: 0.4089 - val_accuracy: 0.8350\n",
      "Epoch 40/80\n",
      "76/76 [==============================] - 35s 464ms/step - loss: 0.3034 - accuracy: 0.8751 - val_loss: 0.3452 - val_accuracy: 0.8750\n",
      "Epoch 41/80\n",
      "76/76 [==============================] - 35s 459ms/step - loss: 0.2929 - accuracy: 0.8821 - val_loss: 0.3967 - val_accuracy: 0.8700\n",
      "Epoch 42/80\n",
      "76/76 [==============================] - 35s 460ms/step - loss: 0.3263 - accuracy: 0.8747 - val_loss: 0.4762 - val_accuracy: 0.8317\n",
      "Epoch 43/80\n",
      "76/76 [==============================] - 35s 460ms/step - loss: 0.3208 - accuracy: 0.8780 - val_loss: 0.3750 - val_accuracy: 0.8767\n",
      "Epoch 44/80\n",
      "76/76 [==============================] - 35s 458ms/step - loss: 0.2840 - accuracy: 0.8867 - val_loss: 0.3879 - val_accuracy: 0.8617\n",
      "Epoch 45/80\n",
      "76/76 [==============================] - 35s 461ms/step - loss: 0.3038 - accuracy: 0.8797 - val_loss: 0.3595 - val_accuracy: 0.8833\n",
      "Epoch 46/80\n",
      "76/76 [==============================] - 35s 460ms/step - loss: 0.3152 - accuracy: 0.8809 - val_loss: 0.3345 - val_accuracy: 0.8800\n",
      "Epoch 47/80\n",
      "76/76 [==============================] - 35s 460ms/step - loss: 0.2814 - accuracy: 0.8933 - val_loss: 0.3264 - val_accuracy: 0.8883\n",
      "Epoch 48/80\n",
      "76/76 [==============================] - 35s 460ms/step - loss: 0.2700 - accuracy: 0.8958 - val_loss: 0.4086 - val_accuracy: 0.8650\n",
      "Epoch 49/80\n",
      "76/76 [==============================] - 2852s 38s/step - loss: 0.2808 - accuracy: 0.8908 - val_loss: 0.4258 - val_accuracy: 0.8600\n",
      "Epoch 50/80\n",
      "76/76 [==============================] - 35s 460ms/step - loss: 0.2549 - accuracy: 0.9045 - val_loss: 0.3415 - val_accuracy: 0.8767\n",
      "Epoch 51/80\n",
      "76/76 [==============================] - 35s 466ms/step - loss: 0.2766 - accuracy: 0.8983 - val_loss: 0.3829 - val_accuracy: 0.8583\n",
      "Epoch 52/80\n",
      "76/76 [==============================] - 35s 466ms/step - loss: 0.2502 - accuracy: 0.9028 - val_loss: 0.3822 - val_accuracy: 0.8833\n",
      "Epoch 53/80\n",
      "76/76 [==============================] - 35s 465ms/step - loss: 0.2514 - accuracy: 0.9053 - val_loss: 0.3967 - val_accuracy: 0.8683\n",
      "Epoch 54/80\n",
      "76/76 [==============================] - 35s 463ms/step - loss: 0.2955 - accuracy: 0.8896 - val_loss: 0.5321 - val_accuracy: 0.8100\n",
      "Epoch 55/80\n",
      "76/76 [==============================] - 35s 463ms/step - loss: 0.2807 - accuracy: 0.8900 - val_loss: 0.4935 - val_accuracy: 0.8383\n",
      "Epoch 56/80\n",
      "76/76 [==============================] - 36s 469ms/step - loss: 0.2405 - accuracy: 0.9103 - val_loss: 0.3632 - val_accuracy: 0.8833\n",
      "Epoch 57/80\n",
      "76/76 [==============================] - 35s 460ms/step - loss: 0.2633 - accuracy: 0.9003 - val_loss: 0.6140 - val_accuracy: 0.8100\n",
      "Epoch 58/80\n",
      "76/76 [==============================] - 35s 462ms/step - loss: 0.2666 - accuracy: 0.8991 - val_loss: 0.3856 - val_accuracy: 0.8583\n",
      "Epoch 59/80\n",
      "76/76 [==============================] - 36s 468ms/step - loss: 0.2563 - accuracy: 0.9020 - val_loss: 0.4142 - val_accuracy: 0.8567\n",
      "Epoch 60/80\n",
      "76/76 [==============================] - 35s 460ms/step - loss: 0.2541 - accuracy: 0.8921 - val_loss: 0.3925 - val_accuracy: 0.8783\n",
      "Epoch 61/80\n",
      "76/76 [==============================] - 35s 460ms/step - loss: 0.2500 - accuracy: 0.9049 - val_loss: 0.3332 - val_accuracy: 0.8933\n",
      "Epoch 62/80\n",
      "76/76 [==============================] - 35s 463ms/step - loss: 0.2334 - accuracy: 0.9132 - val_loss: 0.3708 - val_accuracy: 0.8700\n",
      "Epoch 63/80\n",
      "76/76 [==============================] - 35s 458ms/step - loss: 0.2622 - accuracy: 0.8950 - val_loss: 0.3867 - val_accuracy: 0.8783\n",
      "Epoch 64/80\n",
      "76/76 [==============================] - 35s 462ms/step - loss: 0.2387 - accuracy: 0.9074 - val_loss: 0.4495 - val_accuracy: 0.8567\n",
      "Epoch 65/80\n",
      "76/76 [==============================] - 35s 460ms/step - loss: 0.2273 - accuracy: 0.9127 - val_loss: 0.4174 - val_accuracy: 0.8600\n",
      "Epoch 66/80\n",
      "76/76 [==============================] - 2121s 28s/step - loss: 0.2338 - accuracy: 0.9086 - val_loss: 0.3686 - val_accuracy: 0.8717\n",
      "Epoch 67/80\n",
      "76/76 [==============================] - 35s 463ms/step - loss: 0.2374 - accuracy: 0.9127 - val_loss: 0.3600 - val_accuracy: 0.8900\n",
      "Epoch 68/80\n",
      "76/76 [==============================] - 35s 465ms/step - loss: 0.2315 - accuracy: 0.9160 - val_loss: 0.3403 - val_accuracy: 0.8750\n",
      "Epoch 69/80\n",
      "76/76 [==============================] - 35s 462ms/step - loss: 0.2033 - accuracy: 0.9280 - val_loss: 0.4084 - val_accuracy: 0.8617\n",
      "Epoch 70/80\n",
      "76/76 [==============================] - 36s 474ms/step - loss: 0.2269 - accuracy: 0.9119 - val_loss: 0.4563 - val_accuracy: 0.8467\n",
      "Epoch 71/80\n",
      "76/76 [==============================] - 35s 467ms/step - loss: 0.2072 - accuracy: 0.9202 - val_loss: 0.4377 - val_accuracy: 0.8650\n",
      "Epoch 72/80\n",
      "76/76 [==============================] - 35s 464ms/step - loss: 0.2185 - accuracy: 0.9152 - val_loss: 0.4489 - val_accuracy: 0.8700\n",
      "Epoch 73/80\n",
      "76/76 [==============================] - 36s 468ms/step - loss: 0.2008 - accuracy: 0.9235 - val_loss: 0.3687 - val_accuracy: 0.8933\n",
      "Epoch 74/80\n",
      "76/76 [==============================] - 35s 465ms/step - loss: 0.2222 - accuracy: 0.9132 - val_loss: 0.3827 - val_accuracy: 0.8883\n",
      "Epoch 75/80\n",
      "76/76 [==============================] - 35s 462ms/step - loss: 0.2005 - accuracy: 0.9247 - val_loss: 0.4374 - val_accuracy: 0.8800\n",
      "Epoch 76/80\n",
      "76/76 [==============================] - 35s 462ms/step - loss: 0.1897 - accuracy: 0.9260 - val_loss: 0.4534 - val_accuracy: 0.8667\n",
      "Epoch 77/80\n",
      "76/76 [==============================] - 35s 462ms/step - loss: 0.1887 - accuracy: 0.9334 - val_loss: 0.4782 - val_accuracy: 0.8617\n",
      "Epoch 78/80\n",
      "76/76 [==============================] - 36s 469ms/step - loss: 0.2419 - accuracy: 0.9132 - val_loss: 0.4904 - val_accuracy: 0.8517\n",
      "Epoch 79/80\n",
      "76/76 [==============================] - 35s 462ms/step - loss: 0.2118 - accuracy: 0.9198 - val_loss: 0.3585 - val_accuracy: 0.8883\n",
      "Epoch 80/80\n",
      "76/76 [==============================] - 35s 461ms/step - loss: 0.2075 - accuracy: 0.9181 - val_loss: 0.3346 - val_accuracy: 0.8967\n"
     ]
    },
    {
     "data": {
      "text/plain": [
       "<tensorflow.python.keras.callbacks.History at 0x2abb34d34c0>"
      ]
     },
     "execution_count": 47,
     "metadata": {},
     "output_type": "execute_result"
    }
   ],
   "source": [
    "model.fit_generator(x_train,steps_per_epoch=len(x_train),validation_data=x_test,epochs=80,validation_steps=len(x_test))"
   ]
  },
  {
   "cell_type": "code",
   "execution_count": 48,
   "id": "d6475bcc",
   "metadata": {},
   "outputs": [],
   "source": [
    "model.save('food.h5')"
   ]
  },
  {
   "cell_type": "code",
   "execution_count": 49,
   "id": "95e1774c",
   "metadata": {},
   "outputs": [],
   "source": [
    "from tensorflow.keras.models import load_model\n",
    "from tensorflow.keras.preprocessing import image\n",
    "model=load_model(\"food.h5\")#loading the model for testing"
   ]
  },
  {
   "cell_type": "code",
   "execution_count": 56,
   "id": "af59e5e1",
   "metadata": {},
   "outputs": [
    {
     "data": {
      "text/plain": [
       "array([0], dtype=int64)"
      ]
     },
     "execution_count": 56,
     "metadata": {},
     "output_type": "execute_result"
    }
   ],
   "source": [
    "img=image.load_img(r\"C:\\Users\\bhara\\Downloads\\FOOD RECIPE dataset\\FOOD RECIPE\\dataset\\test_set\\french_fries\\3185191.jpg\",target_size=(64,64))\n",
    "x=image.img_to_array(img)#image to array\n",
    "x=np.expand_dims(x,axis=0)#changing the shape\n",
    "pred=model.predict_classes(x)#predicting the classes\n",
    "pred"
   ]
  },
  {
   "cell_type": "code",
   "execution_count": 57,
   "id": "71c1cee7",
   "metadata": {},
   "outputs": [
    {
     "data": {
      "text/plain": [
       "'french fries'"
      ]
     },
     "execution_count": 57,
     "metadata": {},
     "output_type": "execute_result"
    }
   ],
   "source": [
    "index=['french fries','pizza','samosa']\n",
    "result=str(index[pred[0]])\n",
    "result\n",
    "       "
   ]
  },
  {
   "cell_type": "code",
   "execution_count": null,
   "id": "e2677b71",
   "metadata": {},
   "outputs": [],
   "source": []
  }
 ],
 "metadata": {
  "kernelspec": {
   "display_name": "Python 3",
   "language": "python",
   "name": "python3"
  },
  "language_info": {
   "codemirror_mode": {
    "name": "ipython",
    "version": 3
   },
   "file_extension": ".py",
   "mimetype": "text/x-python",
   "name": "python",
   "nbconvert_exporter": "python",
   "pygments_lexer": "ipython3",
   "version": "3.8.8"
  }
 },
 "nbformat": 4,
 "nbformat_minor": 5
}
